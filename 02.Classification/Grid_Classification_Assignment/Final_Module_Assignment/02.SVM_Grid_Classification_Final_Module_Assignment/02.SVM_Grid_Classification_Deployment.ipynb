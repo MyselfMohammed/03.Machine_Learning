{
 "cells": [
  {
   "cell_type": "code",
   "execution_count": 2,
   "id": "018251ff-9154-4bdd-a160-c395697eb6bc",
   "metadata": {},
   "outputs": [],
   "source": [
    "#importing the Libraies\n",
    "import pandas as pd\n",
    "import pickle"
   ]
  },
  {
   "cell_type": "code",
   "execution_count": 4,
   "id": "96183def-2296-4143-b2a5-e59a0f7eae52",
   "metadata": {},
   "outputs": [
    {
     "name": "stdin",
     "output_type": "stream",
     "text": [
      "age - Enter the Input upto 100 (Without Decimals): 20\n",
      "bp - Enter the Input upto 200 (With 4 Decimals, If required): 100\n",
      "sg_b (Yes = 1 Or No = 0): 1\n",
      "sg_c (Yes = 1 Or No = 0): 00\n",
      "sg_d (Yes = 1 Or No = 0): 0\n",
      "sg_e (Yes = 1 Or No = 0): 0\n",
      "al - Enter the Input upto 10 (Without Decimals): 0\n",
      "su - Enter the Input upto 10 (Without Decimals): 5\n",
      "rbc_normal (Yes = 1 Or No = 0): 1\n",
      "pc_normal (Yes = 1 Or No = 0): 1\n",
      "pcc_present (Yes = 1 Or No = 0): 1\n",
      "ba_present (Yes 0 or 1: 1\n",
      "bgr - Enter the Input upto 500 (With 4 Decimals, If required): 400\n",
      "bu - Enter the Input upto 400 (With 4 Decimals, If required): 200\n",
      "sc - Enter the Input upto 100 (With 4 Decimals, If required): 50\n",
      "sod - Enter the Input upto 200 (With 4 Decimals, If required): 100\n",
      "pot - Enter the Input upto 50 (With 4 Decimals, If required): 40\n",
      "hrmo - Enter the Input upto 20 (With 4 Decimals, If required): 10\n",
      "pcv - Enter the Input upto 60 (With 4 Decimals, If required): 40\n",
      "wc - Enter the Input From 2000 To 30,000 Digits (With 4 Decimals, If required): 15000\n",
      "rc - Enter the Input upto 10 (With 4 Decimals, If required): 6\n",
      "htn_yes (Yes = 1 Or No = 0): 1\n",
      "dm_yes (Yes = 1 Or No = 0): 1\n",
      "cad_yes (Yes = 1 Or No = 0) 1\n",
      "appet_yes (Yes = 1 Or No = 0): 1\n",
      "pe_yes (Yes = 1 Or No = 0): 1\n",
      "ane_yes (Yes = 1 Or No = 0): 1\n"
     ]
    }
   ],
   "source": [
    "age=int(input(\"age - Enter the Input upto 100 (Without Decimals):\"))\n",
    "bp=float(input(\"bp - Enter the Input upto 200 (With 4 Decimals, If required):\"))\n",
    "\n",
    "#Enter All the sg Input but but give any one as \"Yes=1\" rest all as \"No=0\"\n",
    "sg_b=int(input(\"sg_b (Yes = 1 Or No = 0):\"))\n",
    "sg_c=int(input(\"sg_c (Yes = 1 Or No = 0):\"))\n",
    "sg_d=int(input(\"sg_d (Yes = 1 Or No = 0):\"))\n",
    "sg_e=int(input(\"sg_e (Yes = 1 Or No = 0):\"))\n",
    "\n",
    "al=int(input(\"al - Enter the Input upto 10 (Without Decimals):\"))\n",
    "su=int(input(\"su - Enter the Input upto 10 (Without Decimals):\"))\n",
    "\n",
    "rbc_normal=int(input(\"rbc_normal (Yes = 1 Or No = 0):\"))\n",
    "pc_normal=int(input(\"pc_normal (Yes = 1 Or No = 0):\"))\n",
    "pcc_present=int(input(\"pcc_present (Yes = 1 Or No = 0):\"))\n",
    "ba_present=int(input(\"ba_present (Yes 0 or 1:\"))\n",
    "\n",
    "bgr=float(input(\"bgr - Enter the Input upto 500 (With 4 Decimals, If required):\"))\n",
    "bu=float(input(\"bu - Enter the Input upto 400 (With 4 Decimals, If required):\"))\n",
    "sc=float(input(\"sc - Enter the Input upto 100 (With 4 Decimals, If required):\"))\n",
    "sod=float(input(\"sod - Enter the Input upto 200 (With 4 Decimals, If required):\"))\n",
    "pot=float(input(\"pot - Enter the Input upto 50 (With 4 Decimals, If required):\"))\n",
    "hrmo=float(input(\"hrmo - Enter the Input upto 20 (With 4 Decimals, If required):\"))\n",
    "pcv=float(input(\"pcv - Enter the Input upto 60 (With 4 Decimals, If required):\"))\n",
    "\n",
    "wc=float(input(\"wc - Enter the Input From 2000 To 30,000 Digits (With 4 Decimals, If required):\"))\n",
    "rc=float(input(\"rc - Enter the Input upto 10 (With 4 Decimals, If required):\"))\n",
    "\n",
    "htn_yes=int(input(\"htn_yes (Yes = 1 Or No = 0):\"))\n",
    "dm_yes=int(input(\"dm_yes (Yes = 1 Or No = 0):\"))\n",
    "cad_yes=int(input(\"cad_yes (Yes = 1 Or No = 0)\"))\n",
    "appet_yes=int(input(\"appet_yes (Yes = 1 Or No = 0):\"))\n",
    "pe_yes=int(input(\"pe_yes (Yes = 1 Or No = 0):\"))\n",
    "ane_yes=int(input(\"ane_yes (Yes = 1 Or No = 0):\"))\n"
   ]
  },
  {
   "cell_type": "code",
   "execution_count": 6,
   "id": "1daa3780-9cc5-46b2-9c7e-f43d193eeff9",
   "metadata": {},
   "outputs": [
    {
     "data": {
      "text/plain": [
       "array([1])"
      ]
     },
     "execution_count": 6,
     "metadata": {},
     "output_type": "execute_result"
    }
   ],
   "source": [
    "# Load the Saved Model and check the same to send it for Phase-02 (Deployment)\n",
    "# # Keyword - rb refers to \"read binary\"\n",
    "\n",
    "loaded_model=pickle.load(open(\"finalized_model_SVM_Assignment.sav\",'rb'))\n",
    "result = loaded_model.predict([[age, bp, al, su, bgr, bu, sc, sod, pot, hrmo, pcv,wc, rc, sg_b, sg_c, sg_d, sg_e, rbc_normal,\n",
    "pc_normal, pcc_present, ba_present, htn_yes, dm_yes, cad_yes,appet_yes, pe_yes, ane_yes]]) \n",
    "result"
   ]
  },
  {
   "cell_type": "code",
   "execution_count": null,
   "id": "8cd8a10a-2358-4547-9127-6e2a170a73c8",
   "metadata": {},
   "outputs": [],
   "source": []
  }
 ],
 "metadata": {
  "kernelspec": {
   "display_name": "Python 3 (ipykernel)",
   "language": "python",
   "name": "python3"
  },
  "language_info": {
   "codemirror_mode": {
    "name": "ipython",
    "version": 3
   },
   "file_extension": ".py",
   "mimetype": "text/x-python",
   "name": "python",
   "nbconvert_exporter": "python",
   "pygments_lexer": "ipython3",
   "version": "3.12.4"
  }
 },
 "nbformat": 4,
 "nbformat_minor": 5
}
